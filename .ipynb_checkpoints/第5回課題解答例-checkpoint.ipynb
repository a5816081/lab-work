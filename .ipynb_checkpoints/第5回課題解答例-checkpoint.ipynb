{
 "cells": [
  {
   "cell_type": "markdown",
   "metadata": {
    "colab_type": "text",
    "id": "ptPPyIkqm3aj"
   },
   "source": [
    "# import"
   ]
  },
  {
   "cell_type": "code",
   "execution_count": 0,
   "metadata": {
    "colab": {},
    "colab_type": "code",
    "id": "AgtLRsn9mDlH"
   },
   "outputs": [],
   "source": [
    "import matplotlib.pyplot as plt\n",
    "%matplotlib inline\n",
    "import numpy as np\n",
    "import pandas as pd\n",
    "from sklearn.datasets import load_wine"
   ]
  },
  {
   "cell_type": "markdown",
   "metadata": {
    "colab_type": "text",
    "id": "rFWp5JKrm6Jl"
   },
   "source": [
    "# データの取得"
   ]
  },
  {
   "cell_type": "code",
   "execution_count": 0,
   "metadata": {
    "colab": {},
    "colab_type": "code",
    "id": "3DxNYoRxmx3P"
   },
   "outputs": [],
   "source": [
    "data = load_wine()"
   ]
  },
  {
   "cell_type": "markdown",
   "metadata": {
    "colab_type": "text",
    "id": "PU8QCst_nFhe"
   },
   "source": [
    "# データの確認"
   ]
  },
  {
   "cell_type": "code",
   "execution_count": 3,
   "metadata": {
    "colab": {
     "base_uri": "https://localhost:8080/",
     "height": 34
    },
    "colab_type": "code",
    "executionInfo": {
     "elapsed": 2517,
     "status": "ok",
     "timestamp": 1589291617708,
     "user": {
      "displayName": "tomoaki yamazaki",
      "photoUrl": "",
      "userId": "02506561162524756023"
     },
     "user_tz": -540
    },
    "id": "tiFAdgeJnTqf",
    "outputId": "f61bacd1-cd2a-45a3-88a3-f66eb8d63962"
   },
   "outputs": [
    {
     "data": {
      "text/plain": [
       "dict_keys(['data', 'target', 'target_names', 'DESCR', 'feature_names'])"
      ]
     },
     "execution_count": 3,
     "metadata": {
      "tags": []
     },
     "output_type": "execute_result"
    }
   ],
   "source": [
    "data.keys()"
   ]
  },
  {
   "cell_type": "code",
   "execution_count": 4,
   "metadata": {
    "colab": {
     "base_uri": "https://localhost:8080/",
     "height": 238
    },
    "colab_type": "code",
    "executionInfo": {
     "elapsed": 2501,
     "status": "ok",
     "timestamp": 1589291617708,
     "user": {
      "displayName": "tomoaki yamazaki",
      "photoUrl": "",
      "userId": "02506561162524756023"
     },
     "user_tz": -540
    },
    "id": "rQ6PJsy_nE-A",
    "outputId": "aeec1d5e-665c-4652-ba56-61dbd2551c26"
   },
   "outputs": [
    {
     "data": {
      "text/plain": [
       "['alcohol',\n",
       " 'malic_acid',\n",
       " 'ash',\n",
       " 'alcalinity_of_ash',\n",
       " 'magnesium',\n",
       " 'total_phenols',\n",
       " 'flavanoids',\n",
       " 'nonflavanoid_phenols',\n",
       " 'proanthocyanins',\n",
       " 'color_intensity',\n",
       " 'hue',\n",
       " 'od280/od315_of_diluted_wines',\n",
       " 'proline']"
      ]
     },
     "execution_count": 4,
     "metadata": {
      "tags": []
     },
     "output_type": "execute_result"
    }
   ],
   "source": [
    "data[\"feature_names\"]"
   ]
  },
  {
   "cell_type": "markdown",
   "metadata": {
    "colab_type": "text",
    "id": "05vX0vVns4XE"
   },
   "source": [
    "# 特徴量の確認\n",
    "1) Alcohol\n",
    "2) Malic acid\n",
    "3) Ash\n",
    "4) Alcalinity of ash\n",
    "5) Magnesium\n",
    "6) Total phenols\n",
    "7) Flavanoids\n",
    "8) Nonflavanoid phenols\n",
    "9) Proanthocyanins\n",
    "10)Color intensity\n",
    "11)Hue\n",
    "12)OD280/OD315 of diluted wines\n",
    "13)Proline"
   ]
  },
  {
   "cell_type": "markdown",
   "metadata": {
    "colab_type": "text",
    "id": "a-xMeHW8uQi1"
   },
   "source": [
    "DeepL による翻訳結果\n",
    "\n",
    "\n",
    "1）アルコール\n",
    "2）リンゴ酸\n",
    "3)灰\n",
    "4)灰のアルコール度\n",
    "5) マグネシウム\n",
    "6) 総フェノール類\n",
    "7) フラバノイド\n",
    "8) ノンフラバノイドフェノール\n",
    "9) プロアントシアニン\n",
    "10）色の強度\n",
    "11)色相\n",
    "12)希釈ワインのOD280/OD315\n",
    "13)プロリン"
   ]
  },
  {
   "cell_type": "markdown",
   "metadata": {
    "colab_type": "text",
    "id": "Jl1gT8XfuZGu"
   },
   "source": [
    "# ラベルの確認\n",
    "0, 1, 2 のカテゴリ変数（質的変数）\n",
    "\n",
    "http://archive.ics.uci.edu/ml/datasets/Wine UCI を見ても特に書いてない・・・"
   ]
  },
  {
   "cell_type": "markdown",
   "metadata": {
    "colab_type": "text",
    "id": "XEov9dz4wYvh"
   },
   "source": [
    "# 頑張って仮説を立ててみる\n",
    "あまりよくわからないデータに対して考察を行うことにどれくらい意味があるかは怪しいですが\n",
    "とりあえず，イタリア産で化学的な特徴量に基づいて分類する設定だということです\n",
    "\n",
    "アルコール，リンゴ酸（酸味），マグネシウム，色の強度，色相くらいならわかりそうなので\n",
    "アルコールやリンゴ酸とぶどうが関連していたら嬉しいなくらいの気持ちでいきます\n",
    "\n",
    "また，全部が数値であり，量的変数であることもわかります．"
   ]
  },
  {
   "cell_type": "code",
   "execution_count": 0,
   "metadata": {
    "colab": {},
    "colab_type": "code",
    "id": "dX0GYkBUnMQ5"
   },
   "outputs": [],
   "source": [
    "X, Y = data[\"data\"], data[\"target\"]"
   ]
  },
  {
   "cell_type": "code",
   "execution_count": 6,
   "metadata": {
    "colab": {
     "base_uri": "https://localhost:8080/",
     "height": 224
    },
    "colab_type": "code",
    "executionInfo": {
     "elapsed": 2474,
     "status": "ok",
     "timestamp": 1589291617709,
     "user": {
      "displayName": "tomoaki yamazaki",
      "photoUrl": "",
      "userId": "02506561162524756023"
     },
     "user_tz": -540
    },
    "id": "MP2Ku7VvnbaB",
    "outputId": "b1fab662-d00a-4ae0-d759-4f314ec3ecc4"
   },
   "outputs": [
    {
     "data": {
      "text/html": [
       "<div>\n",
       "<style scoped>\n",
       "    .dataframe tbody tr th:only-of-type {\n",
       "        vertical-align: middle;\n",
       "    }\n",
       "\n",
       "    .dataframe tbody tr th {\n",
       "        vertical-align: top;\n",
       "    }\n",
       "\n",
       "    .dataframe thead th {\n",
       "        text-align: right;\n",
       "    }\n",
       "</style>\n",
       "<table border=\"1\" class=\"dataframe\">\n",
       "  <thead>\n",
       "    <tr style=\"text-align: right;\">\n",
       "      <th></th>\n",
       "      <th>alcohol</th>\n",
       "      <th>malic_acid</th>\n",
       "      <th>ash</th>\n",
       "      <th>alcalinity_of_ash</th>\n",
       "      <th>magnesium</th>\n",
       "      <th>total_phenols</th>\n",
       "      <th>flavanoids</th>\n",
       "      <th>nonflavanoid_phenols</th>\n",
       "      <th>proanthocyanins</th>\n",
       "      <th>color_intensity</th>\n",
       "      <th>hue</th>\n",
       "      <th>od280/od315_of_diluted_wines</th>\n",
       "      <th>proline</th>\n",
       "      <th>target</th>\n",
       "    </tr>\n",
       "  </thead>\n",
       "  <tbody>\n",
       "    <tr>\n",
       "      <th>0</th>\n",
       "      <td>14.23</td>\n",
       "      <td>1.71</td>\n",
       "      <td>2.43</td>\n",
       "      <td>15.6</td>\n",
       "      <td>127.0</td>\n",
       "      <td>2.80</td>\n",
       "      <td>3.06</td>\n",
       "      <td>0.28</td>\n",
       "      <td>2.29</td>\n",
       "      <td>5.64</td>\n",
       "      <td>1.04</td>\n",
       "      <td>3.92</td>\n",
       "      <td>1065.0</td>\n",
       "      <td>0</td>\n",
       "    </tr>\n",
       "    <tr>\n",
       "      <th>1</th>\n",
       "      <td>13.20</td>\n",
       "      <td>1.78</td>\n",
       "      <td>2.14</td>\n",
       "      <td>11.2</td>\n",
       "      <td>100.0</td>\n",
       "      <td>2.65</td>\n",
       "      <td>2.76</td>\n",
       "      <td>0.26</td>\n",
       "      <td>1.28</td>\n",
       "      <td>4.38</td>\n",
       "      <td>1.05</td>\n",
       "      <td>3.40</td>\n",
       "      <td>1050.0</td>\n",
       "      <td>0</td>\n",
       "    </tr>\n",
       "    <tr>\n",
       "      <th>2</th>\n",
       "      <td>13.16</td>\n",
       "      <td>2.36</td>\n",
       "      <td>2.67</td>\n",
       "      <td>18.6</td>\n",
       "      <td>101.0</td>\n",
       "      <td>2.80</td>\n",
       "      <td>3.24</td>\n",
       "      <td>0.30</td>\n",
       "      <td>2.81</td>\n",
       "      <td>5.68</td>\n",
       "      <td>1.03</td>\n",
       "      <td>3.17</td>\n",
       "      <td>1185.0</td>\n",
       "      <td>0</td>\n",
       "    </tr>\n",
       "    <tr>\n",
       "      <th>3</th>\n",
       "      <td>14.37</td>\n",
       "      <td>1.95</td>\n",
       "      <td>2.50</td>\n",
       "      <td>16.8</td>\n",
       "      <td>113.0</td>\n",
       "      <td>3.85</td>\n",
       "      <td>3.49</td>\n",
       "      <td>0.24</td>\n",
       "      <td>2.18</td>\n",
       "      <td>7.80</td>\n",
       "      <td>0.86</td>\n",
       "      <td>3.45</td>\n",
       "      <td>1480.0</td>\n",
       "      <td>0</td>\n",
       "    </tr>\n",
       "    <tr>\n",
       "      <th>4</th>\n",
       "      <td>13.24</td>\n",
       "      <td>2.59</td>\n",
       "      <td>2.87</td>\n",
       "      <td>21.0</td>\n",
       "      <td>118.0</td>\n",
       "      <td>2.80</td>\n",
       "      <td>2.69</td>\n",
       "      <td>0.39</td>\n",
       "      <td>1.82</td>\n",
       "      <td>4.32</td>\n",
       "      <td>1.04</td>\n",
       "      <td>2.93</td>\n",
       "      <td>735.0</td>\n",
       "      <td>0</td>\n",
       "    </tr>\n",
       "  </tbody>\n",
       "</table>\n",
       "</div>"
      ],
      "text/plain": [
       "   alcohol  malic_acid   ash  ...  od280/od315_of_diluted_wines  proline  target\n",
       "0    14.23        1.71  2.43  ...                          3.92   1065.0       0\n",
       "1    13.20        1.78  2.14  ...                          3.40   1050.0       0\n",
       "2    13.16        2.36  2.67  ...                          3.17   1185.0       0\n",
       "3    14.37        1.95  2.50  ...                          3.45   1480.0       0\n",
       "4    13.24        2.59  2.87  ...                          2.93    735.0       0\n",
       "\n",
       "[5 rows x 14 columns]"
      ]
     },
     "execution_count": 6,
     "metadata": {
      "tags": []
     },
     "output_type": "execute_result"
    }
   ],
   "source": [
    "wine_df = pd.DataFrame(data[\"data\"], columns=data[\"feature_names\"])\n",
    "wine_df = pd.concat([wine_df, pd.DataFrame(data[\"target\"], columns=[\"target\"])], axis=1)\n",
    "wine_df.head()"
   ]
  },
  {
   "cell_type": "code",
   "execution_count": 7,
   "metadata": {
    "colab": {
     "base_uri": "https://localhost:8080/",
     "height": 317
    },
    "colab_type": "code",
    "executionInfo": {
     "elapsed": 2461,
     "status": "ok",
     "timestamp": 1589291617709,
     "user": {
      "displayName": "tomoaki yamazaki",
      "photoUrl": "",
      "userId": "02506561162524756023"
     },
     "user_tz": -540
    },
    "id": "28T170XNniaZ",
    "outputId": "88c7cc8c-9332-448c-d194-534ce4a3df0a"
   },
   "outputs": [
    {
     "data": {
      "text/html": [
       "<div>\n",
       "<style scoped>\n",
       "    .dataframe tbody tr th:only-of-type {\n",
       "        vertical-align: middle;\n",
       "    }\n",
       "\n",
       "    .dataframe tbody tr th {\n",
       "        vertical-align: top;\n",
       "    }\n",
       "\n",
       "    .dataframe thead th {\n",
       "        text-align: right;\n",
       "    }\n",
       "</style>\n",
       "<table border=\"1\" class=\"dataframe\">\n",
       "  <thead>\n",
       "    <tr style=\"text-align: right;\">\n",
       "      <th></th>\n",
       "      <th>alcohol</th>\n",
       "      <th>malic_acid</th>\n",
       "      <th>ash</th>\n",
       "      <th>alcalinity_of_ash</th>\n",
       "      <th>magnesium</th>\n",
       "      <th>total_phenols</th>\n",
       "      <th>flavanoids</th>\n",
       "      <th>nonflavanoid_phenols</th>\n",
       "      <th>proanthocyanins</th>\n",
       "      <th>color_intensity</th>\n",
       "      <th>hue</th>\n",
       "      <th>od280/od315_of_diluted_wines</th>\n",
       "      <th>proline</th>\n",
       "      <th>target</th>\n",
       "    </tr>\n",
       "  </thead>\n",
       "  <tbody>\n",
       "    <tr>\n",
       "      <th>count</th>\n",
       "      <td>178.000000</td>\n",
       "      <td>178.000000</td>\n",
       "      <td>178.000000</td>\n",
       "      <td>178.000000</td>\n",
       "      <td>178.000000</td>\n",
       "      <td>178.000000</td>\n",
       "      <td>178.000000</td>\n",
       "      <td>178.000000</td>\n",
       "      <td>178.000000</td>\n",
       "      <td>178.000000</td>\n",
       "      <td>178.000000</td>\n",
       "      <td>178.000000</td>\n",
       "      <td>178.000000</td>\n",
       "      <td>178.000000</td>\n",
       "    </tr>\n",
       "    <tr>\n",
       "      <th>mean</th>\n",
       "      <td>13.000618</td>\n",
       "      <td>2.336348</td>\n",
       "      <td>2.366517</td>\n",
       "      <td>19.494944</td>\n",
       "      <td>99.741573</td>\n",
       "      <td>2.295112</td>\n",
       "      <td>2.029270</td>\n",
       "      <td>0.361854</td>\n",
       "      <td>1.590899</td>\n",
       "      <td>5.058090</td>\n",
       "      <td>0.957449</td>\n",
       "      <td>2.611685</td>\n",
       "      <td>746.893258</td>\n",
       "      <td>0.938202</td>\n",
       "    </tr>\n",
       "    <tr>\n",
       "      <th>std</th>\n",
       "      <td>0.811827</td>\n",
       "      <td>1.117146</td>\n",
       "      <td>0.274344</td>\n",
       "      <td>3.339564</td>\n",
       "      <td>14.282484</td>\n",
       "      <td>0.625851</td>\n",
       "      <td>0.998859</td>\n",
       "      <td>0.124453</td>\n",
       "      <td>0.572359</td>\n",
       "      <td>2.318286</td>\n",
       "      <td>0.228572</td>\n",
       "      <td>0.709990</td>\n",
       "      <td>314.907474</td>\n",
       "      <td>0.775035</td>\n",
       "    </tr>\n",
       "    <tr>\n",
       "      <th>min</th>\n",
       "      <td>11.030000</td>\n",
       "      <td>0.740000</td>\n",
       "      <td>1.360000</td>\n",
       "      <td>10.600000</td>\n",
       "      <td>70.000000</td>\n",
       "      <td>0.980000</td>\n",
       "      <td>0.340000</td>\n",
       "      <td>0.130000</td>\n",
       "      <td>0.410000</td>\n",
       "      <td>1.280000</td>\n",
       "      <td>0.480000</td>\n",
       "      <td>1.270000</td>\n",
       "      <td>278.000000</td>\n",
       "      <td>0.000000</td>\n",
       "    </tr>\n",
       "    <tr>\n",
       "      <th>25%</th>\n",
       "      <td>12.362500</td>\n",
       "      <td>1.602500</td>\n",
       "      <td>2.210000</td>\n",
       "      <td>17.200000</td>\n",
       "      <td>88.000000</td>\n",
       "      <td>1.742500</td>\n",
       "      <td>1.205000</td>\n",
       "      <td>0.270000</td>\n",
       "      <td>1.250000</td>\n",
       "      <td>3.220000</td>\n",
       "      <td>0.782500</td>\n",
       "      <td>1.937500</td>\n",
       "      <td>500.500000</td>\n",
       "      <td>0.000000</td>\n",
       "    </tr>\n",
       "    <tr>\n",
       "      <th>50%</th>\n",
       "      <td>13.050000</td>\n",
       "      <td>1.865000</td>\n",
       "      <td>2.360000</td>\n",
       "      <td>19.500000</td>\n",
       "      <td>98.000000</td>\n",
       "      <td>2.355000</td>\n",
       "      <td>2.135000</td>\n",
       "      <td>0.340000</td>\n",
       "      <td>1.555000</td>\n",
       "      <td>4.690000</td>\n",
       "      <td>0.965000</td>\n",
       "      <td>2.780000</td>\n",
       "      <td>673.500000</td>\n",
       "      <td>1.000000</td>\n",
       "    </tr>\n",
       "    <tr>\n",
       "      <th>75%</th>\n",
       "      <td>13.677500</td>\n",
       "      <td>3.082500</td>\n",
       "      <td>2.557500</td>\n",
       "      <td>21.500000</td>\n",
       "      <td>107.000000</td>\n",
       "      <td>2.800000</td>\n",
       "      <td>2.875000</td>\n",
       "      <td>0.437500</td>\n",
       "      <td>1.950000</td>\n",
       "      <td>6.200000</td>\n",
       "      <td>1.120000</td>\n",
       "      <td>3.170000</td>\n",
       "      <td>985.000000</td>\n",
       "      <td>2.000000</td>\n",
       "    </tr>\n",
       "    <tr>\n",
       "      <th>max</th>\n",
       "      <td>14.830000</td>\n",
       "      <td>5.800000</td>\n",
       "      <td>3.230000</td>\n",
       "      <td>30.000000</td>\n",
       "      <td>162.000000</td>\n",
       "      <td>3.880000</td>\n",
       "      <td>5.080000</td>\n",
       "      <td>0.660000</td>\n",
       "      <td>3.580000</td>\n",
       "      <td>13.000000</td>\n",
       "      <td>1.710000</td>\n",
       "      <td>4.000000</td>\n",
       "      <td>1680.000000</td>\n",
       "      <td>2.000000</td>\n",
       "    </tr>\n",
       "  </tbody>\n",
       "</table>\n",
       "</div>"
      ],
      "text/plain": [
       "          alcohol  malic_acid  ...      proline      target\n",
       "count  178.000000  178.000000  ...   178.000000  178.000000\n",
       "mean    13.000618    2.336348  ...   746.893258    0.938202\n",
       "std      0.811827    1.117146  ...   314.907474    0.775035\n",
       "min     11.030000    0.740000  ...   278.000000    0.000000\n",
       "25%     12.362500    1.602500  ...   500.500000    0.000000\n",
       "50%     13.050000    1.865000  ...   673.500000    1.000000\n",
       "75%     13.677500    3.082500  ...   985.000000    2.000000\n",
       "max     14.830000    5.800000  ...  1680.000000    2.000000\n",
       "\n",
       "[8 rows x 14 columns]"
      ]
     },
     "execution_count": 7,
     "metadata": {
      "tags": []
     },
     "output_type": "execute_result"
    }
   ],
   "source": [
    "wine_df.describe()"
   ]
  },
  {
   "cell_type": "markdown",
   "metadata": {
    "colab_type": "text",
    "id": "CFqzudVCx72u"
   },
   "source": [
    "# 箱ひげ図"
   ]
  },
  {
   "cell_type": "code",
   "execution_count": 8,
   "metadata": {
    "colab": {
     "base_uri": "https://localhost:8080/",
     "height": 555
    },
    "colab_type": "code",
    "executionInfo": {
     "elapsed": 3154,
     "status": "ok",
     "timestamp": 1589291618417,
     "user": {
      "displayName": "tomoaki yamazaki",
      "photoUrl": "",
      "userId": "02506561162524756023"
     },
     "user_tz": -540
    },
    "id": "43LkDxz4x-3b",
    "outputId": "e68fbb6d-4a61-420e-ad71-c350cc06cf26"
   },
   "outputs": [
    {
     "data": {
      "text/plain": [
       "<matplotlib.axes._subplots.AxesSubplot at 0x7f0659a32fd0>"
      ]
     },
     "execution_count": 8,
     "metadata": {
      "tags": []
     },
     "output_type": "execute_result"
    },
    {
     "data": {
      "image/png": "[encoded data removed]",
      "text/plain": [
       "<Figure size 1152x648 with 1 Axes>"
      ]
     },
     "metadata": {
      "needs_background": "light",
      "tags": []
     },
     "output_type": "display_data"
    }
   ],
   "source": [
    "#一部が大きすぎて見えない・・・\n",
    "wine_df.boxplot(figsize=(16,9))"
   ]
  },
  {
   "cell_type": "code",
   "execution_count": 9,
   "metadata": {
    "colab": {
     "base_uri": "https://localhost:8080/",
     "height": 553
    },
    "colab_type": "code",
    "executionInfo": {
     "elapsed": 3137,
     "status": "ok",
     "timestamp": 1589291618419,
     "user": {
      "displayName": "tomoaki yamazaki",
      "photoUrl": "",
      "userId": "02506561162524756023"
     },
     "user_tz": -540
    },
    "id": "Z5hRB4T9yoPU",
    "outputId": "6e2a7e23-1ecc-4a5b-9530-7ee7844f319c"
   },
   "outputs": [
    {
     "data": {
      "text/plain": [
       "<matplotlib.axes._subplots.AxesSubplot at 0x7f0659827c18>"
      ]
     },
     "execution_count": 9,
     "metadata": {
      "tags": []
     },
     "output_type": "execute_result"
    },
    {
     "data": {
      "image/png": "[encoded data removed]",
      "text/plain": [
       "<Figure size 1152x648 with 1 Axes>"
      ]
     },
     "metadata": {
      "needs_background": "light",
      "tags": []
     },
     "output_type": "display_data"
    }
   ],
   "source": [
    "# 邪魔な proline を無視します\n",
    "wine_df[[c for c in wine_df.columns if c != \"proline\"]].boxplot(figsize=(16,9), fontsize=8)"
   ]
  },
  {
   "cell_type": "markdown",
   "metadata": {
    "colab_type": "text",
    "id": "qmJ8GpVPpXlm"
   },
   "source": [
    "# scale が揃っていないのが気になるので正規化"
   ]
  },
  {
   "cell_type": "code",
   "execution_count": 0,
   "metadata": {
    "colab": {},
    "colab_type": "code",
    "id": "HuXAQCeCKRxX"
   },
   "outputs": [],
   "source": [
    "from sklearn.preprocessing import MinMaxScaler\n",
    "min_max_scaler = MinMaxScaler()"
   ]
  },
  {
   "cell_type": "code",
   "execution_count": 11,
   "metadata": {
    "colab": {
     "base_uri": "https://localhost:8080/",
     "height": 224
    },
    "colab_type": "code",
    "executionInfo": {
     "elapsed": 3113,
     "status": "ok",
     "timestamp": 1589291618421,
     "user": {
      "displayName": "tomoaki yamazaki",
      "photoUrl": "",
      "userId": "02506561162524756023"
     },
     "user_tz": -540
    },
    "id": "RdmTLNUhpV31",
    "outputId": "891dccd9-7858-4dd6-de98-6c37ea748245"
   },
   "outputs": [
    {
     "data": {
      "text/html": [
       "<div>\n",
       "<style scoped>\n",
       "    .dataframe tbody tr th:only-of-type {\n",
       "        vertical-align: middle;\n",
       "    }\n",
       "\n",
       "    .dataframe tbody tr th {\n",
       "        vertical-align: top;\n",
       "    }\n",
       "\n",
       "    .dataframe thead th {\n",
       "        text-align: right;\n",
       "    }\n",
       "</style>\n",
       "<table border=\"1\" class=\"dataframe\">\n",
       "  <thead>\n",
       "    <tr style=\"text-align: right;\">\n",
       "      <th></th>\n",
       "      <th>alcohol</th>\n",
       "      <th>malic_acid</th>\n",
       "      <th>ash</th>\n",
       "      <th>alcalinity_of_ash</th>\n",
       "      <th>magnesium</th>\n",
       "      <th>total_phenols</th>\n",
       "      <th>flavanoids</th>\n",
       "      <th>nonflavanoid_phenols</th>\n",
       "      <th>proanthocyanins</th>\n",
       "      <th>color_intensity</th>\n",
       "      <th>hue</th>\n",
       "      <th>od280/od315_of_diluted_wines</th>\n",
       "      <th>proline</th>\n",
       "      <th>target</th>\n",
       "    </tr>\n",
       "  </thead>\n",
       "  <tbody>\n",
       "    <tr>\n",
       "      <th>0</th>\n",
       "      <td>0.842105</td>\n",
       "      <td>0.191700</td>\n",
       "      <td>0.572193</td>\n",
       "      <td>0.257732</td>\n",
       "      <td>0.619565</td>\n",
       "      <td>0.627586</td>\n",
       "      <td>0.573840</td>\n",
       "      <td>0.283019</td>\n",
       "      <td>0.593060</td>\n",
       "      <td>0.372014</td>\n",
       "      <td>0.455285</td>\n",
       "      <td>0.970696</td>\n",
       "      <td>0.561341</td>\n",
       "      <td>0</td>\n",
       "    </tr>\n",
       "    <tr>\n",
       "      <th>1</th>\n",
       "      <td>0.571053</td>\n",
       "      <td>0.205534</td>\n",
       "      <td>0.417112</td>\n",
       "      <td>0.030928</td>\n",
       "      <td>0.326087</td>\n",
       "      <td>0.575862</td>\n",
       "      <td>0.510549</td>\n",
       "      <td>0.245283</td>\n",
       "      <td>0.274448</td>\n",
       "      <td>0.264505</td>\n",
       "      <td>0.463415</td>\n",
       "      <td>0.780220</td>\n",
       "      <td>0.550642</td>\n",
       "      <td>0</td>\n",
       "    </tr>\n",
       "    <tr>\n",
       "      <th>2</th>\n",
       "      <td>0.560526</td>\n",
       "      <td>0.320158</td>\n",
       "      <td>0.700535</td>\n",
       "      <td>0.412371</td>\n",
       "      <td>0.336957</td>\n",
       "      <td>0.627586</td>\n",
       "      <td>0.611814</td>\n",
       "      <td>0.320755</td>\n",
       "      <td>0.757098</td>\n",
       "      <td>0.375427</td>\n",
       "      <td>0.447154</td>\n",
       "      <td>0.695971</td>\n",
       "      <td>0.646933</td>\n",
       "      <td>0</td>\n",
       "    </tr>\n",
       "    <tr>\n",
       "      <th>3</th>\n",
       "      <td>0.878947</td>\n",
       "      <td>0.239130</td>\n",
       "      <td>0.609626</td>\n",
       "      <td>0.319588</td>\n",
       "      <td>0.467391</td>\n",
       "      <td>0.989655</td>\n",
       "      <td>0.664557</td>\n",
       "      <td>0.207547</td>\n",
       "      <td>0.558360</td>\n",
       "      <td>0.556314</td>\n",
       "      <td>0.308943</td>\n",
       "      <td>0.798535</td>\n",
       "      <td>0.857347</td>\n",
       "      <td>0</td>\n",
       "    </tr>\n",
       "    <tr>\n",
       "      <th>4</th>\n",
       "      <td>0.581579</td>\n",
       "      <td>0.365613</td>\n",
       "      <td>0.807487</td>\n",
       "      <td>0.536082</td>\n",
       "      <td>0.521739</td>\n",
       "      <td>0.627586</td>\n",
       "      <td>0.495781</td>\n",
       "      <td>0.490566</td>\n",
       "      <td>0.444795</td>\n",
       "      <td>0.259386</td>\n",
       "      <td>0.455285</td>\n",
       "      <td>0.608059</td>\n",
       "      <td>0.325963</td>\n",
       "      <td>0</td>\n",
       "    </tr>\n",
       "  </tbody>\n",
       "</table>\n",
       "</div>"
      ],
      "text/plain": [
       "    alcohol  malic_acid  ...   proline  target\n",
       "0  0.842105    0.191700  ...  0.561341       0\n",
       "1  0.571053    0.205534  ...  0.550642       0\n",
       "2  0.560526    0.320158  ...  0.646933       0\n",
       "3  0.878947    0.239130  ...  0.857347       0\n",
       "4  0.581579    0.365613  ...  0.325963       0\n",
       "\n",
       "[5 rows x 14 columns]"
      ]
     },
     "execution_count": 11,
     "metadata": {
      "tags": []
     },
     "output_type": "execute_result"
    }
   ],
   "source": [
    "wine_df = pd.DataFrame(min_max_scaler.fit_transform(data[\"data\"]), columns=data[\"feature_names\"])\n",
    "wine_df = pd.concat([wine_df, pd.DataFrame(data[\"target\"], columns=[\"target\"])], axis=1)\n",
    "wine_df.head()"
   ]
  },
  {
   "cell_type": "code",
   "execution_count": 12,
   "metadata": {
    "colab": {
     "base_uri": "https://localhost:8080/",
     "height": 317
    },
    "colab_type": "code",
    "executionInfo": {
     "elapsed": 3707,
     "status": "ok",
     "timestamp": 1589291619028,
     "user": {
      "displayName": "tomoaki yamazaki",
      "photoUrl": "",
      "userId": "02506561162524756023"
     },
     "user_tz": -540
    },
    "id": "7naRwzD6q9JL",
    "outputId": "de289a43-dbba-4d4a-acc3-938354fe3abf"
   },
   "outputs": [
    {
     "data": {
      "text/html": [
       "<div>\n",
       "<style scoped>\n",
       "    .dataframe tbody tr th:only-of-type {\n",
       "        vertical-align: middle;\n",
       "    }\n",
       "\n",
       "    .dataframe tbody tr th {\n",
       "        vertical-align: top;\n",
       "    }\n",
       "\n",
       "    .dataframe thead th {\n",
       "        text-align: right;\n",
       "    }\n",
       "</style>\n",
       "<table border=\"1\" class=\"dataframe\">\n",
       "  <thead>\n",
       "    <tr style=\"text-align: right;\">\n",
       "      <th></th>\n",
       "      <th>alcohol</th>\n",
       "      <th>malic_acid</th>\n",
       "      <th>ash</th>\n",
       "      <th>alcalinity_of_ash</th>\n",
       "      <th>magnesium</th>\n",
       "      <th>total_phenols</th>\n",
       "      <th>flavanoids</th>\n",
       "      <th>nonflavanoid_phenols</th>\n",
       "      <th>proanthocyanins</th>\n",
       "      <th>color_intensity</th>\n",
       "      <th>hue</th>\n",
       "      <th>od280/od315_of_diluted_wines</th>\n",
       "      <th>proline</th>\n",
       "      <th>target</th>\n",
       "    </tr>\n",
       "  </thead>\n",
       "  <tbody>\n",
       "    <tr>\n",
       "      <th>count</th>\n",
       "      <td>178.000000</td>\n",
       "      <td>178.000000</td>\n",
       "      <td>178.000000</td>\n",
       "      <td>178.000000</td>\n",
       "      <td>178.000000</td>\n",
       "      <td>178.000000</td>\n",
       "      <td>178.000000</td>\n",
       "      <td>178.000000</td>\n",
       "      <td>178.000000</td>\n",
       "      <td>178.000000</td>\n",
       "      <td>178.000000</td>\n",
       "      <td>178.000000</td>\n",
       "      <td>178.000000</td>\n",
       "      <td>178.000000</td>\n",
       "    </tr>\n",
       "    <tr>\n",
       "      <th>mean</th>\n",
       "      <td>0.518584</td>\n",
       "      <td>0.315484</td>\n",
       "      <td>0.538244</td>\n",
       "      <td>0.458502</td>\n",
       "      <td>0.323278</td>\n",
       "      <td>0.453487</td>\n",
       "      <td>0.356386</td>\n",
       "      <td>0.437460</td>\n",
       "      <td>0.372523</td>\n",
       "      <td>0.322363</td>\n",
       "      <td>0.388170</td>\n",
       "      <td>0.491460</td>\n",
       "      <td>0.334446</td>\n",
       "      <td>0.938202</td>\n",
       "    </tr>\n",
       "    <tr>\n",
       "      <th>std</th>\n",
       "      <td>0.213639</td>\n",
       "      <td>0.220780</td>\n",
       "      <td>0.146708</td>\n",
       "      <td>0.172142</td>\n",
       "      <td>0.155244</td>\n",
       "      <td>0.215811</td>\n",
       "      <td>0.210730</td>\n",
       "      <td>0.234818</td>\n",
       "      <td>0.180555</td>\n",
       "      <td>0.197806</td>\n",
       "      <td>0.185831</td>\n",
       "      <td>0.260070</td>\n",
       "      <td>0.224613</td>\n",
       "      <td>0.775035</td>\n",
       "    </tr>\n",
       "    <tr>\n",
       "      <th>min</th>\n",
       "      <td>0.000000</td>\n",
       "      <td>0.000000</td>\n",
       "      <td>0.000000</td>\n",
       "      <td>0.000000</td>\n",
       "      <td>0.000000</td>\n",
       "      <td>0.000000</td>\n",
       "      <td>0.000000</td>\n",
       "      <td>0.000000</td>\n",
       "      <td>0.000000</td>\n",
       "      <td>0.000000</td>\n",
       "      <td>0.000000</td>\n",
       "      <td>0.000000</td>\n",
       "      <td>0.000000</td>\n",
       "      <td>0.000000</td>\n",
       "    </tr>\n",
       "    <tr>\n",
       "      <th>25%</th>\n",
       "      <td>0.350658</td>\n",
       "      <td>0.170455</td>\n",
       "      <td>0.454545</td>\n",
       "      <td>0.340206</td>\n",
       "      <td>0.195652</td>\n",
       "      <td>0.262931</td>\n",
       "      <td>0.182489</td>\n",
       "      <td>0.264151</td>\n",
       "      <td>0.264984</td>\n",
       "      <td>0.165529</td>\n",
       "      <td>0.245935</td>\n",
       "      <td>0.244505</td>\n",
       "      <td>0.158702</td>\n",
       "      <td>0.000000</td>\n",
       "    </tr>\n",
       "    <tr>\n",
       "      <th>50%</th>\n",
       "      <td>0.531579</td>\n",
       "      <td>0.222332</td>\n",
       "      <td>0.534759</td>\n",
       "      <td>0.458763</td>\n",
       "      <td>0.304348</td>\n",
       "      <td>0.474138</td>\n",
       "      <td>0.378692</td>\n",
       "      <td>0.396226</td>\n",
       "      <td>0.361199</td>\n",
       "      <td>0.290956</td>\n",
       "      <td>0.394309</td>\n",
       "      <td>0.553114</td>\n",
       "      <td>0.282097</td>\n",
       "      <td>1.000000</td>\n",
       "    </tr>\n",
       "    <tr>\n",
       "      <th>75%</th>\n",
       "      <td>0.696711</td>\n",
       "      <td>0.462945</td>\n",
       "      <td>0.640374</td>\n",
       "      <td>0.561856</td>\n",
       "      <td>0.402174</td>\n",
       "      <td>0.627586</td>\n",
       "      <td>0.534810</td>\n",
       "      <td>0.580189</td>\n",
       "      <td>0.485804</td>\n",
       "      <td>0.419795</td>\n",
       "      <td>0.520325</td>\n",
       "      <td>0.695971</td>\n",
       "      <td>0.504280</td>\n",
       "      <td>2.000000</td>\n",
       "    </tr>\n",
       "    <tr>\n",
       "      <th>max</th>\n",
       "      <td>1.000000</td>\n",
       "      <td>1.000000</td>\n",
       "      <td>1.000000</td>\n",
       "      <td>1.000000</td>\n",
       "      <td>1.000000</td>\n",
       "      <td>1.000000</td>\n",
       "      <td>1.000000</td>\n",
       "      <td>1.000000</td>\n",
       "      <td>1.000000</td>\n",
       "      <td>1.000000</td>\n",
       "      <td>1.000000</td>\n",
       "      <td>1.000000</td>\n",
       "      <td>1.000000</td>\n",
       "      <td>2.000000</td>\n",
       "    </tr>\n",
       "  </tbody>\n",
       "</table>\n",
       "</div>"
      ],
      "text/plain": [
       "          alcohol  malic_acid  ...     proline      target\n",
       "count  178.000000  178.000000  ...  178.000000  178.000000\n",
       "mean     0.518584    0.315484  ...    0.334446    0.938202\n",
       "std      0.213639    0.220780  ...    0.224613    0.775035\n",
       "min      0.000000    0.000000  ...    0.000000    0.000000\n",
       "25%      0.350658    0.170455  ...    0.158702    0.000000\n",
       "50%      0.531579    0.222332  ...    0.282097    1.000000\n",
       "75%      0.696711    0.462945  ...    0.504280    2.000000\n",
       "max      1.000000    1.000000  ...    1.000000    2.000000\n",
       "\n",
       "[8 rows x 14 columns]"
      ]
     },
     "execution_count": 12,
     "metadata": {
      "tags": []
     },
     "output_type": "execute_result"
    }
   ],
   "source": [
    "wine_df.describe()"
   ]
  },
  {
   "cell_type": "markdown",
   "metadata": {
    "colab_type": "text",
    "id": "nVN1L0_ErKY5"
   },
   "source": [
    "# 箱ひげ図"
   ]
  },
  {
   "cell_type": "code",
   "execution_count": 13,
   "metadata": {
    "colab": {
     "base_uri": "https://localhost:8080/",
     "height": 555
    },
    "colab_type": "code",
    "executionInfo": {
     "elapsed": 3694,
     "status": "ok",
     "timestamp": 1589291619028,
     "user": {
      "displayName": "tomoaki yamazaki",
      "photoUrl": "",
      "userId": "02506561162524756023"
     },
     "user_tz": -540
    },
    "id": "BcsY7p_mojx2",
    "outputId": "6368b657-8c21-432b-e943-9d8721f69422"
   },
   "outputs": [
    {
     "data": {
      "text/plain": [
       "<matplotlib.axes._subplots.AxesSubplot at 0x7f0659842e80>"
      ]
     },
     "execution_count": 13,
     "metadata": {
      "tags": []
     },
     "output_type": "execute_result"
    },
    {
     "data": {
      "image/png": "[encoded data removed]",
      "text/plain": [
       "<Figure size 1728x648 with 1 Axes>"
      ]
     },
     "metadata": {
      "needs_background": "light",
      "tags": []
     },
     "output_type": "display_data"
    }
   ],
   "source": [
    "wine_df.boxplot(figsize=(24,9))"
   ]
  },
  {
   "cell_type": "markdown",
   "metadata": {
    "colab_type": "text",
    "id": "zGmpBMW0zblH"
   },
   "source": [
    "# 相関を見たい！\n",
    "ですが。。。カテゴリ変数（質的変数）なのでターゲットとの相関係数はあまり意味がありません\n"
   ]
  },
  {
   "cell_type": "code",
   "execution_count": 14,
   "metadata": {
    "colab": {
     "base_uri": "https://localhost:8080/",
     "height": 874
    },
    "colab_type": "code",
    "executionInfo": {
     "elapsed": 4444,
     "status": "ok",
     "timestamp": 1589291619793,
     "user": {
      "displayName": "tomoaki yamazaki",
      "photoUrl": "",
      "userId": "02506561162524756023"
     },
     "user_tz": -540
    },
    "id": "BJgpQt-DoHT5",
    "outputId": "ce35f155-3a6b-4937-9c07-57e2f9964c5e"
   },
   "outputs": [
    {
     "data": {
      "text/plain": [
       "<matplotlib.colorbar.Colorbar at 0x7f0659095dd8>"
      ]
     },
     "execution_count": 14,
     "metadata": {
      "tags": []
     },
     "output_type": "execute_result"
    },
    {
     "data": {
      "image/png": "[encoded data removed]",
      "text/plain": [
       "<Figure size 864x864 with 2 Axes>"
      ]
     },
     "metadata": {
      "needs_background": "light",
      "tags": []
     },
     "output_type": "display_data"
    }
   ],
   "source": [
    "fig = plt.figure(figsize=(12, 12))\n",
    "plt.matshow(wine_df.corr(\"pearson\"), fignum=fig.number)\n",
    "plt.xticks(range(wine_df.shape[1]), wine_df.columns, fontsize=14, rotation=90)\n",
    "plt.yticks(range(wine_df.shape[1]), wine_df.columns, fontsize=14)\n",
    "plt.colorbar()"
   ]
  },
  {
   "cell_type": "code",
   "execution_count": 15,
   "metadata": {
    "colab": {
     "base_uri": "https://localhost:8080/",
     "height": 765
    },
    "colab_type": "code",
    "executionInfo": {
     "elapsed": 4430,
     "status": "ok",
     "timestamp": 1589291619794,
     "user": {
      "displayName": "tomoaki yamazaki",
      "photoUrl": "",
      "userId": "02506561162524756023"
     },
     "user_tz": -540
    },
    "id": "ZpMoIDHUzuOm",
    "outputId": "33d15f41-e416-4cfb-957b-ebeb41ecf568"
   },
   "outputs": [
    {
     "data": {
      "text/plain": [
       "[['alcohol', 'color_intensity', 0.5463641950837038],\n",
       " ['alcohol', 'proline', 0.6437200371782134],\n",
       " ['malic_acid', 'flavanoids', -0.41100658761426334],\n",
       " ['malic_acid', 'hue', -0.5612956886649447],\n",
       " ['ash', 'alcalinity_of_ash', 0.44336718655231094],\n",
       " ['alcalinity_of_ash', 'ash', 0.44336718655231094],\n",
       " ['alcalinity_of_ash', 'proline', -0.44059693128216226],\n",
       " ['total_phenols', 'flavanoids', 0.8645635000951144],\n",
       " ['total_phenols', 'nonflavanoid_phenols', -0.44993530093521983],\n",
       " ['total_phenols', 'proanthocyanins', 0.612413083780036],\n",
       " ['total_phenols', 'hue', 0.43368133521377555],\n",
       " ['total_phenols', 'od280/od315_of_diluted_wines', 0.6999493647911859],\n",
       " ['total_phenols', 'proline', 0.4981148796420981],\n",
       " ['flavanoids', 'malic_acid', -0.41100658761426334],\n",
       " ['flavanoids', 'total_phenols', 0.8645635000951144],\n",
       " ['flavanoids', 'nonflavanoid_phenols', -0.5378996119051981],\n",
       " ['flavanoids', 'proanthocyanins', 0.6526917686075157],\n",
       " ['flavanoids', 'hue', 0.5434785664899897],\n",
       " ['flavanoids', 'od280/od315_of_diluted_wines', 0.7871939018669512],\n",
       " ['flavanoids', 'proline', 0.49419312720437414],\n",
       " ['nonflavanoid_phenols', 'total_phenols', -0.44993530093521983],\n",
       " ['nonflavanoid_phenols', 'flavanoids', -0.5378996119051981],\n",
       " ['nonflavanoid_phenols', 'od280/od315_of_diluted_wines', -0.5032695960789111],\n",
       " ['proanthocyanins', 'total_phenols', 0.612413083780036],\n",
       " ['proanthocyanins', 'flavanoids', 0.6526917686075157],\n",
       " ['proanthocyanins', 'od280/od315_of_diluted_wines', 0.5190670956825232],\n",
       " ['color_intensity', 'alcohol', 0.5463641950837038],\n",
       " ['color_intensity', 'hue', -0.5218131932287574],\n",
       " ['color_intensity', 'od280/od315_of_diluted_wines', -0.4288149418276315],\n",
       " ['hue', 'malic_acid', -0.5612956886649447],\n",
       " ['hue', 'total_phenols', 0.43368133521377555],\n",
       " ['hue', 'flavanoids', 0.5434785664899897],\n",
       " ['hue', 'color_intensity', -0.5218131932287574],\n",
       " ['hue', 'od280/od315_of_diluted_wines', 0.5654682931826592],\n",
       " ['od280/od315_of_diluted_wines', 'total_phenols', 0.6999493647911859],\n",
       " ['od280/od315_of_diluted_wines', 'flavanoids', 0.7871939018669512],\n",
       " ['od280/od315_of_diluted_wines', 'nonflavanoid_phenols', -0.5032695960789111],\n",
       " ['od280/od315_of_diluted_wines', 'proanthocyanins', 0.5190670956825232],\n",
       " ['od280/od315_of_diluted_wines', 'color_intensity', -0.4288149418276315],\n",
       " ['od280/od315_of_diluted_wines', 'hue', 0.5654682931826592],\n",
       " ['proline', 'alcohol', 0.6437200371782134],\n",
       " ['proline', 'alcalinity_of_ash', -0.44059693128216226],\n",
       " ['proline', 'total_phenols', 0.4981148796420981],\n",
       " ['proline', 'flavanoids', 0.49419312720437414]]"
      ]
     },
     "execution_count": 15,
     "metadata": {
      "tags": []
     },
     "output_type": "execute_result"
    }
   ],
   "source": [
    "# どういう組み合わせで相関が大きいか見ておきましょう（0.4はなんとなくです．根拠はありません）\n",
    "corr = wine_df.corr().values\n",
    "[[wine_df.columns[i], wine_df.columns[j], corr[i][j]] for i in range(wine_df.shape[1]-1) for j in range(wine_df.shape[1]-1) if abs(corr[i][j]) >= 0.4 and corr[i][j] != 1]"
   ]
  },
  {
   "cell_type": "markdown",
   "metadata": {
    "colab_type": "text",
    "id": "9sE9Ck1S1av5"
   },
   "source": [
    "> アルコール，リンゴ酸（酸味），マグネシウム，色の強度，色相くらいならわかりそうなので\n",
    "> アルコールやリンゴ酸とぶどうが関連していたら嬉しいなくらいの気持ちでいきます\n",
    "\n",
    "としていたので，関連項目を見ると\n",
    "['alcohol', 'color_intensity'], ['color_intensity', 'alcohol'],\n",
    " ['color_intensity', 'hue'],['hue', 'color_intensity'],\n",
    " となっているので，色とアルコールは相関が高いので，類似した性質があるかもですね\n",
    "若干，リンゴ酸にも同じ傾向が見えます．\n",
    "\n",
    "['total_phenols', 'flavanoids'] あたりも類似した性質があるかもです\n",
    "\n",
    " 一方で，マグネシウムは他のものとは類似した性質を持ってなさそうです"
   ]
  },
  {
   "cell_type": "markdown",
   "metadata": {
    "colab_type": "text",
    "id": "TukGU6Op1IXv"
   },
   "source": [
    "# ターゲットのカテゴリをダミー変数に\n",
    "target == 0 のみを持つ列，target == 1 のみを持つ列，target == 2 のみを持つ列を作成"
   ]
  },
  {
   "cell_type": "code",
   "execution_count": 16,
   "metadata": {
    "colab": {
     "base_uri": "https://localhost:8080/",
     "height": 224
    },
    "colab_type": "code",
    "executionInfo": {
     "elapsed": 4416,
     "status": "ok",
     "timestamp": 1589291619795,
     "user": {
      "displayName": "tomoaki yamazaki",
      "photoUrl": "",
      "userId": "02506561162524756023"
     },
     "user_tz": -540
    },
    "id": "Usg32FrjoLjJ",
    "outputId": "998d4372-fd41-42ec-f57f-7a1993f65cf5"
   },
   "outputs": [
    {
     "data": {
      "text/html": [
       "<div>\n",
       "<style scoped>\n",
       "    .dataframe tbody tr th:only-of-type {\n",
       "        vertical-align: middle;\n",
       "    }\n",
       "\n",
       "    .dataframe tbody tr th {\n",
       "        vertical-align: top;\n",
       "    }\n",
       "\n",
       "    .dataframe thead th {\n",
       "        text-align: right;\n",
       "    }\n",
       "</style>\n",
       "<table border=\"1\" class=\"dataframe\">\n",
       "  <thead>\n",
       "    <tr style=\"text-align: right;\">\n",
       "      <th></th>\n",
       "      <th>alcohol</th>\n",
       "      <th>malic_acid</th>\n",
       "      <th>ash</th>\n",
       "      <th>alcalinity_of_ash</th>\n",
       "      <th>magnesium</th>\n",
       "      <th>total_phenols</th>\n",
       "      <th>flavanoids</th>\n",
       "      <th>nonflavanoid_phenols</th>\n",
       "      <th>proanthocyanins</th>\n",
       "      <th>color_intensity</th>\n",
       "      <th>hue</th>\n",
       "      <th>od280/od315_of_diluted_wines</th>\n",
       "      <th>proline</th>\n",
       "      <th>target</th>\n",
       "      <th>target__0</th>\n",
       "      <th>target__1</th>\n",
       "      <th>target__2</th>\n",
       "    </tr>\n",
       "  </thead>\n",
       "  <tbody>\n",
       "    <tr>\n",
       "      <th>0</th>\n",
       "      <td>0.842105</td>\n",
       "      <td>0.191700</td>\n",
       "      <td>0.572193</td>\n",
       "      <td>0.257732</td>\n",
       "      <td>0.619565</td>\n",
       "      <td>0.627586</td>\n",
       "      <td>0.573840</td>\n",
       "      <td>0.283019</td>\n",
       "      <td>0.593060</td>\n",
       "      <td>0.372014</td>\n",
       "      <td>0.455285</td>\n",
       "      <td>0.970696</td>\n",
       "      <td>0.561341</td>\n",
       "      <td>0</td>\n",
       "      <td>1</td>\n",
       "      <td>0</td>\n",
       "      <td>0</td>\n",
       "    </tr>\n",
       "    <tr>\n",
       "      <th>1</th>\n",
       "      <td>0.571053</td>\n",
       "      <td>0.205534</td>\n",
       "      <td>0.417112</td>\n",
       "      <td>0.030928</td>\n",
       "      <td>0.326087</td>\n",
       "      <td>0.575862</td>\n",
       "      <td>0.510549</td>\n",
       "      <td>0.245283</td>\n",
       "      <td>0.274448</td>\n",
       "      <td>0.264505</td>\n",
       "      <td>0.463415</td>\n",
       "      <td>0.780220</td>\n",
       "      <td>0.550642</td>\n",
       "      <td>0</td>\n",
       "      <td>1</td>\n",
       "      <td>0</td>\n",
       "      <td>0</td>\n",
       "    </tr>\n",
       "    <tr>\n",
       "      <th>2</th>\n",
       "      <td>0.560526</td>\n",
       "      <td>0.320158</td>\n",
       "      <td>0.700535</td>\n",
       "      <td>0.412371</td>\n",
       "      <td>0.336957</td>\n",
       "      <td>0.627586</td>\n",
       "      <td>0.611814</td>\n",
       "      <td>0.320755</td>\n",
       "      <td>0.757098</td>\n",
       "      <td>0.375427</td>\n",
       "      <td>0.447154</td>\n",
       "      <td>0.695971</td>\n",
       "      <td>0.646933</td>\n",
       "      <td>0</td>\n",
       "      <td>1</td>\n",
       "      <td>0</td>\n",
       "      <td>0</td>\n",
       "    </tr>\n",
       "    <tr>\n",
       "      <th>3</th>\n",
       "      <td>0.878947</td>\n",
       "      <td>0.239130</td>\n",
       "      <td>0.609626</td>\n",
       "      <td>0.319588</td>\n",
       "      <td>0.467391</td>\n",
       "      <td>0.989655</td>\n",
       "      <td>0.664557</td>\n",
       "      <td>0.207547</td>\n",
       "      <td>0.558360</td>\n",
       "      <td>0.556314</td>\n",
       "      <td>0.308943</td>\n",
       "      <td>0.798535</td>\n",
       "      <td>0.857347</td>\n",
       "      <td>0</td>\n",
       "      <td>1</td>\n",
       "      <td>0</td>\n",
       "      <td>0</td>\n",
       "    </tr>\n",
       "    <tr>\n",
       "      <th>4</th>\n",
       "      <td>0.581579</td>\n",
       "      <td>0.365613</td>\n",
       "      <td>0.807487</td>\n",
       "      <td>0.536082</td>\n",
       "      <td>0.521739</td>\n",
       "      <td>0.627586</td>\n",
       "      <td>0.495781</td>\n",
       "      <td>0.490566</td>\n",
       "      <td>0.444795</td>\n",
       "      <td>0.259386</td>\n",
       "      <td>0.455285</td>\n",
       "      <td>0.608059</td>\n",
       "      <td>0.325963</td>\n",
       "      <td>0</td>\n",
       "      <td>1</td>\n",
       "      <td>0</td>\n",
       "      <td>0</td>\n",
       "    </tr>\n",
       "  </tbody>\n",
       "</table>\n",
       "</div>"
      ],
      "text/plain": [
       "    alcohol  malic_acid       ash  ...  target__0  target__1  target__2\n",
       "0  0.842105    0.191700  0.572193  ...          1          0          0\n",
       "1  0.571053    0.205534  0.417112  ...          1          0          0\n",
       "2  0.560526    0.320158  0.700535  ...          1          0          0\n",
       "3  0.878947    0.239130  0.609626  ...          1          0          0\n",
       "4  0.581579    0.365613  0.807487  ...          1          0          0\n",
       "\n",
       "[5 rows x 17 columns]"
      ]
     },
     "execution_count": 16,
     "metadata": {
      "tags": []
     },
     "output_type": "execute_result"
    }
   ],
   "source": [
    "wine_df_dummy = pd.concat([wine_df, pd.get_dummies(wine_df[\"target\"], prefix=\"target_\")], axis=1)\n",
    "wine_df_dummy.head()"
   ]
  },
  {
   "cell_type": "markdown",
   "metadata": {
    "colab_type": "text",
    "id": "I097AXpI3Ans"
   },
   "source": [
    "2値分類にしたため，ターゲットの相関に意味があってもおかしくありません．"
   ]
  },
  {
   "cell_type": "code",
   "execution_count": 17,
   "metadata": {
    "colab": {
     "base_uri": "https://localhost:8080/",
     "height": 874
    },
    "colab_type": "code",
    "executionInfo": {
     "elapsed": 5757,
     "status": "ok",
     "timestamp": 1589291621150,
     "user": {
      "displayName": "tomoaki yamazaki",
      "photoUrl": "",
      "userId": "02506561162524756023"
     },
     "user_tz": -540
    },
    "id": "GliTkaJB2y-4",
    "outputId": "5240571c-1c77-4424-a445-a0abaf346f99"
   },
   "outputs": [
    {
     "data": {
      "text/plain": [
       "<matplotlib.colorbar.Colorbar at 0x7f0658f9d860>"
      ]
     },
     "execution_count": 17,
     "metadata": {
      "tags": []
     },
     "output_type": "execute_result"
    },
    {
     "data": {
      "image/png": "[encoded data removed]",
      "text/plain": [
       "<Figure size 864x864 with 2 Axes>"
      ]
     },
     "metadata": {
      "needs_background": "light",
      "tags": []
     },
     "output_type": "display_data"
    }
   ],
   "source": [
    "fig = plt.figure(figsize=(12, 12))\n",
    "plt.matshow(wine_df_dummy.corr(\"pearson\"), fignum=fig.number)\n",
    "plt.xticks(range(wine_df_dummy.shape[1]), wine_df_dummy.columns, fontsize=14, rotation=90)\n",
    "plt.yticks(range(wine_df_dummy.shape[1]), wine_df_dummy.columns, fontsize=14)\n",
    "plt.colorbar()"
   ]
  },
  {
   "cell_type": "code",
   "execution_count": 18,
   "metadata": {
    "colab": {
     "base_uri": "https://localhost:8080/",
     "height": 459
    },
    "colab_type": "code",
    "executionInfo": {
     "elapsed": 5742,
     "status": "ok",
     "timestamp": 1589291621150,
     "user": {
      "displayName": "tomoaki yamazaki",
      "photoUrl": "",
      "userId": "02506561162524756023"
     },
     "user_tz": -540
    },
    "id": "sSpzcHdB26tJ",
    "outputId": "665dca2a-a778-42bd-bf8e-b8a44796a6cf"
   },
   "outputs": [
    {
     "data": {
      "text/plain": [
       "[['target__0', 'alcohol', 0.6472322816284557],\n",
       " ['target__0', 'alcalinity_of_ash', -0.5196455243908183],\n",
       " ['target__0', 'total_phenols', 0.6149600953497655],\n",
       " ['target__0', 'flavanoids', 0.6737701693832151],\n",
       " ['target__0', 'nonflavanoid_phenols', -0.40768044259823844],\n",
       " ['target__0', 'od280/od315_of_diluted_wines', 0.5431308803730069],\n",
       " ['target__0', 'proline', 0.8270004510913332],\n",
       " ['target__0', 'target', -0.8547735051992134],\n",
       " ['target__0', 'target__1', -0.5735744675578627],\n",
       " ['target__0', 'target__2', -0.42785978407499275],\n",
       " ['target__1', 'alcohol', -0.7263831781569264],\n",
       " ['target__1', 'color_intensity', -0.6946785254945604],\n",
       " ['target__1', 'proline', -0.5898503204104634],\n",
       " ['target__1', 'target__0', -0.5735744675578627],\n",
       " ['target__1', 'target__2', -0.49497837784725995],\n",
       " ['target__2', 'malic_acid', 0.5440420087312747],\n",
       " ['target__2', 'total_phenols', -0.6001190805142718],\n",
       " ['target__2', 'flavanoids', -0.7612322601327902],\n",
       " ['target__2', 'nonflavanoid_phenols', 0.4193466514375121],\n",
       " ['target__2', 'proanthocyanins', -0.46562917982264335],\n",
       " ['target__2', 'color_intensity', 0.6145816181686218],\n",
       " ['target__2', 'hue', -0.7324428561643701],\n",
       " ['target__2', 'od280/od315_of_diluted_wines', -0.7965903664356595],\n",
       " ['target__2', 'target', 0.8348199184922169],\n",
       " ['target__2', 'target__0', -0.42785978407499275],\n",
       " ['target__2', 'target__1', -0.49497837784725995]]"
      ]
     },
     "execution_count": 18,
     "metadata": {
      "tags": []
     },
     "output_type": "execute_result"
    }
   ],
   "source": [
    "# どういう組み合わせで相関が大きいのか見ておきましょう\n",
    "corr = wine_df_dummy.corr().values\n",
    "[[wine_df_dummy.columns[i], wine_df_dummy.columns[j], corr[i][j]] for i in range(wine_df.shape[1], wine_df_dummy.shape[1]) for j in range(wine_df_dummy.shape[1]) if abs(corr[i][j]) >= 0.4 and corr[i][j] != 1]"
   ]
  },
  {
   "cell_type": "markdown",
   "metadata": {
    "colab_type": "text",
    "id": "rrY1CzSh1_8t"
   },
   "source": [
    "['target__0', 'proline', 0.8270004510913332],\n",
    "['target__2', 'od280/od315_of_diluted_wines', -0.7965903664356595],\n",
    "辺りが大きいでしょうか？\n",
    "\n",
    "アルコールもなかなかです．\n",
    "['target__0', 'alcohol', 0.6472322816284557],\n",
    "['target__1', 'alcohol', -0.7263831781569264],"
   ]
  },
  {
   "cell_type": "markdown",
   "metadata": {
    "colab_type": "text",
    "id": "fWCvN6Q42kfa"
   },
   "source": [
    "# 質的変数と量的変数の相関を測るのに，相関比（correlation ratio）を利用\n",
    "https://toukeigaku-jouhou.info/2018/08/17/correlation-ratio/ を参照．\n",
    "すいません，良さそうな引用先が見つからず・・・"
   ]
  },
  {
   "cell_type": "code",
   "execution_count": 0,
   "metadata": {
    "colab": {},
    "colab_type": "code",
    "id": "OxW6rBcR2tfF"
   },
   "outputs": [],
   "source": [
    "def correlation_ratio(X, Y):\n",
    "    c = 0\n",
    "    for i in range(np.min(Y), np.max(Y)+1):\n",
    "        x = X[Y == i]\n",
    "        c += np.var(x)*len(x)\n",
    "    return 1-c/(np.var(X)*len(X))"
   ]
  },
  {
   "cell_type": "code",
   "execution_count": 20,
   "metadata": {
    "colab": {
     "base_uri": "https://localhost:8080/",
     "height": 238
    },
    "colab_type": "code",
    "executionInfo": {
     "elapsed": 5702,
     "status": "ok",
     "timestamp": 1589291621152,
     "user": {
      "displayName": "tomoaki yamazaki",
      "photoUrl": "",
      "userId": "02506561162524756023"
     },
     "user_tz": -540
    },
    "id": "HhbBHDH56-LC",
    "outputId": "24d75d9e-402f-4cbc-d91a-9afac24e5fd2"
   },
   "outputs": [
    {
     "data": {
      "text/plain": [
       "[['alcohol', 'target', 0.606878722433705],\n",
       " ['malic_acid', 'target', 0.2968692397699061],\n",
       " ['ash', 'target', 0.13205553100372658],\n",
       " ['alcalinity_of_ash', 'target', 0.2901854648779746],\n",
       " ['magnesium', 'target', 0.12438342879611763],\n",
       " ['total_phenols', 'target', 0.5171961212624121],\n",
       " ['flavanoids', 'target', 0.7277754921530848],\n",
       " ['nonflavanoid_phenols', 'target', 0.23962908699908125],\n",
       " ['proanthocyanins', 'target', 0.2570351332842302],\n",
       " ['color_intensity', 'target', 0.5796583835414437],\n",
       " ['hue', 'target', 0.5365878346831898],\n",
       " ['od280/od315_of_diluted_wines', 'target', 0.6846532302124797],\n",
       " ['proline', 'target', 0.7038118974523616]]"
      ]
     },
     "execution_count": 20,
     "metadata": {
      "tags": []
     },
     "output_type": "execute_result"
    }
   ],
   "source": [
    "[[wine_df.columns[i], \"target\", correlation_ratio(wine_df[wine_df.columns[i]], wine_df[\"target\"])] for i in range(wine_df.shape[1]-1)]"
   ]
  },
  {
   "cell_type": "markdown",
   "metadata": {
    "colab_type": "text",
    "id": "K-Ayivrx9vVc"
   },
   "source": [
    "先ほどと同じスケーリングではないことに注意すべきですが\n",
    "\n",
    "alcohol, flavanoids, od280/od315_of_diluted_wines, proline あたりが良さそうなのは先ほどと同じかも"
   ]
  },
  {
   "cell_type": "markdown",
   "metadata": {
    "colab_type": "text",
    "id": "cDm4810g-NvQ"
   },
   "source": [
    "# 回帰分析\n",
    "['alcohol', 'proline', 0.6437200371782134]，\n",
    "['proline', 'flavanoids', 0.49419312720437414]]の相関が大きかったので，関係を眺めておきます．"
   ]
  },
  {
   "cell_type": "code",
   "execution_count": 0,
   "metadata": {
    "colab": {},
    "colab_type": "code",
    "id": "Hq0aqmBw3REJ"
   },
   "outputs": [],
   "source": [
    "# 線形モデル\n",
    "from sklearn import linear_model"
   ]
  },
  {
   "cell_type": "code",
   "execution_count": 22,
   "metadata": {
    "colab": {
     "base_uri": "https://localhost:8080/",
     "height": 34
    },
    "colab_type": "code",
    "executionInfo": {
     "elapsed": 5653,
     "status": "ok",
     "timestamp": 1589291621153,
     "user": {
      "displayName": "tomoaki yamazaki",
      "photoUrl": "",
      "userId": "02506561162524756023"
     },
     "user_tz": -540
    },
    "id": "4L770nt34mi0",
    "outputId": "c39fd617-44c5-4640-adb2-b01511067323"
   },
   "outputs": [
    {
     "data": {
      "text/plain": [
       "LinearRegression(copy_X=True, fit_intercept=True, n_jobs=None, normalize=False)"
      ]
     },
     "execution_count": 22,
     "metadata": {
      "tags": []
     },
     "output_type": "execute_result"
    }
   ],
   "source": [
    "clf = linear_model.LinearRegression()\n",
    "X = wine_df[\"proline\"].values.reshape(-1, 1)\n",
    "Y = wine_df[\"flavanoids\"]\n",
    "clf.fit(X, Y)"
   ]
  },
  {
   "cell_type": "code",
   "execution_count": 23,
   "metadata": {
    "colab": {
     "base_uri": "https://localhost:8080/",
     "height": 34
    },
    "colab_type": "code",
    "executionInfo": {
     "elapsed": 5626,
     "status": "ok",
     "timestamp": 1589291621153,
     "user": {
      "displayName": "tomoaki yamazaki",
      "photoUrl": "",
      "userId": "02506561162524756023"
     },
     "user_tz": -540
    },
    "id": "IQQMuqqK45tI",
    "outputId": "4997e631-5dcf-4a6e-cd2d-564dc9e0583e"
   },
   "outputs": [
    {
     "data": {
      "text/plain": [
       "(array([0.463647]), 0.20132113112770558, 0.24422684697603847)"
      ]
     },
     "execution_count": 23,
     "metadata": {
      "tags": []
     },
     "output_type": "execute_result"
    }
   ],
   "source": [
    "# 傾き，切片，相関係数の2乗\n",
    "clf.coef_, clf.intercept_, clf.score(X, Y) "
   ]
  },
  {
   "cell_type": "code",
   "execution_count": 24,
   "metadata": {
    "colab": {
     "base_uri": "https://localhost:8080/",
     "height": 296
    },
    "colab_type": "code",
    "executionInfo": {
     "elapsed": 5604,
     "status": "ok",
     "timestamp": 1589291621154,
     "user": {
      "displayName": "tomoaki yamazaki",
      "photoUrl": "",
      "userId": "02506561162524756023"
     },
     "user_tz": -540
    },
    "id": "KCav5mW55Fra",
    "outputId": "8ede581c-386b-4313-fe3d-86b79bd45ce9"
   },
   "outputs": [
    {
     "data": {
      "text/plain": [
       "Text(0, 0.5, 'flavanoids')"
      ]
     },
     "execution_count": 24,
     "metadata": {
      "tags": []
     },
     "output_type": "execute_result"
    },
    {
     "data": {
      "image/png": "[encoded data removed]",
      "text/plain": [
       "<Figure size 432x288 with 1 Axes>"
      ]
     },
     "metadata": {
      "needs_background": "light",
      "tags": []
     },
     "output_type": "display_data"
    }
   ],
   "source": [
    "plt.plot(X, clf.coef_ * X + clf.intercept_)\n",
    "plt.scatter(X, Y)\n",
    "plt.xlabel(\"proline\")\n",
    "plt.ylabel(\"flavanoids\")"
   ]
  },
  {
   "cell_type": "code",
   "execution_count": 25,
   "metadata": {
    "colab": {
     "base_uri": "https://localhost:8080/",
     "height": 296
    },
    "colab_type": "code",
    "executionInfo": {
     "elapsed": 5589,
     "status": "ok",
     "timestamp": 1589291621154,
     "user": {
      "displayName": "tomoaki yamazaki",
      "photoUrl": "",
      "userId": "02506561162524756023"
     },
     "user_tz": -540
    },
    "id": "3YeDj5Lt6gmT",
    "outputId": "a32a9226-3813-4ea7-8d0f-da46a3fcf849"
   },
   "outputs": [
    {
     "data": {
      "text/plain": [
       "Text(0, 0.5, 'alcohol')"
      ]
     },
     "execution_count": 25,
     "metadata": {
      "tags": []
     },
     "output_type": "execute_result"
    },
    {
     "data": {
      "image/png": "[encoded data removed]",
      "text/plain": [
       "<Figure size 432x288 with 1 Axes>"
      ]
     },
     "metadata": {
      "needs_background": "light",
      "tags": []
     },
     "output_type": "display_data"
    }
   ],
   "source": [
    "clf = linear_model.LinearRegression()\n",
    "X = wine_df[\"proline\"].values.reshape(-1, 1)\n",
    "Y = wine_df[\"alcohol\"]\n",
    "clf.fit(X, Y)\n",
    "# 傾き，切片，相関係数の2乗\n",
    "clf.coef_, clf.intercept_, clf.score(X, Y) \n",
    "plt.plot(X, clf.coef_ * X + clf.intercept_)\n",
    "plt.scatter(X, Y)\n",
    "plt.xlabel(\"proline\")\n",
    "plt.ylabel(\"alcohol\")"
   ]
  },
  {
   "cell_type": "markdown",
   "metadata": {
    "colab_type": "text",
    "id": "TMG5jFp8_UhI"
   },
   "source": [
    "確かに，alcohol と proline の方が相関がありそうです．"
   ]
  },
  {
   "cell_type": "markdown",
   "metadata": {
    "colab_type": "text",
    "id": "46tmvngW_v-I"
   },
   "source": [
    "# モデルの学習\n",
    "試しにモデルを学習し，予測精度を測ってみます．\n",
    "\n",
    "データを分割し，学習用データと評価用データを作成します．"
   ]
  },
  {
   "cell_type": "code",
   "execution_count": 0,
   "metadata": {
    "colab": {},
    "colab_type": "code",
    "id": "EPTDYggi_Eu7"
   },
   "outputs": [],
   "source": [
    "from sklearn.model_selection import train_test_split"
   ]
  },
  {
   "cell_type": "code",
   "execution_count": 0,
   "metadata": {
    "colab": {},
    "colab_type": "code",
    "id": "mTaTGc7PABct"
   },
   "outputs": [],
   "source": [
    "X_train, X_test, y_train, y_test = train_test_split(wine_df[data[\"feature_names\"]], wine_df[\"target\"], test_size=0.33, random_state=1)"
   ]
  },
  {
   "cell_type": "code",
   "execution_count": 28,
   "metadata": {
    "colab": {
     "base_uri": "https://localhost:8080/",
     "height": 34
    },
    "colab_type": "code",
    "executionInfo": {
     "elapsed": 5550,
     "status": "ok",
     "timestamp": 1589291621155,
     "user": {
      "displayName": "tomoaki yamazaki",
      "photoUrl": "",
      "userId": "02506561162524756023"
     },
     "user_tz": -540
    },
    "id": "UZLaUti6AdPV",
    "outputId": "9d872aa1-1a2c-48cc-d4ad-54bd1a626cd1"
   },
   "outputs": [
    {
     "data": {
      "text/plain": [
       "((119, 13), (59, 13))"
      ]
     },
     "execution_count": 28,
     "metadata": {
      "tags": []
     },
     "output_type": "execute_result"
    }
   ],
   "source": [
    "X_train.shape, X_test.shape"
   ]
  },
  {
   "cell_type": "markdown",
   "metadata": {
    "colab_type": "text",
    "id": "5dqpOFD4Ajl5"
   },
   "source": [
    "# SVM"
   ]
  },
  {
   "cell_type": "code",
   "execution_count": 0,
   "metadata": {
    "colab": {},
    "colab_type": "code",
    "id": "d88DclghAfh1"
   },
   "outputs": [],
   "source": [
    "from sklearn.svm import SVC"
   ]
  },
  {
   "cell_type": "code",
   "execution_count": 30,
   "metadata": {
    "colab": {
     "base_uri": "https://localhost:8080/",
     "height": 85
    },
    "colab_type": "code",
    "executionInfo": {
     "elapsed": 5393,
     "status": "ok",
     "timestamp": 1589291621156,
     "user": {
      "displayName": "tomoaki yamazaki",
      "photoUrl": "",
      "userId": "02506561162524756023"
     },
     "user_tz": -540
    },
    "id": "cPdza-DBA_8s",
    "outputId": "15eee1e9-6be3-4435-ad41-04b4269fe9b8"
   },
   "outputs": [
    {
     "data": {
      "text/plain": [
       "SVC(C=1.0, break_ties=False, cache_size=200, class_weight=None, coef0=0.0,\n",
       "    decision_function_shape='ovr', degree=3, gamma='scale', kernel='rbf',\n",
       "    max_iter=-1, probability=False, random_state=0, shrinking=True, tol=0.001,\n",
       "    verbose=False)"
      ]
     },
     "execution_count": 30,
     "metadata": {
      "tags": []
     },
     "output_type": "execute_result"
    }
   ],
   "source": [
    "# 訓練\n",
    "clf = SVC(random_state=0)\n",
    "clf.fit(X_train, y_train)"
   ]
  },
  {
   "cell_type": "code",
   "execution_count": 31,
   "metadata": {
    "colab": {
     "base_uri": "https://localhost:8080/",
     "height": 68
    },
    "colab_type": "code",
    "executionInfo": {
     "elapsed": 5379,
     "status": "ok",
     "timestamp": 1589291621156,
     "user": {
      "displayName": "tomoaki yamazaki",
      "photoUrl": "",
      "userId": "02506561162524756023"
     },
     "user_tz": -540
    },
    "id": "Fx9iv2IrBPRH",
    "outputId": "b70442f1-3c3e-4cb7-ab92-40a0ea98fe8c"
   },
   "outputs": [
    {
     "data": {
      "text/plain": [
       "array([2, 1, 0, 1, 0, 2, 1, 0, 2, 1, 0, 0, 1, 0, 1, 1, 2, 0, 1, 0, 0, 1,\n",
       "       1, 1, 0, 2, 0, 0, 0, 2, 1, 2, 2, 0, 1, 1, 1, 1, 1, 0, 0, 1, 2, 0,\n",
       "       0, 0, 1, 0, 0, 0, 1, 2, 2, 0, 1, 1, 0, 1, 2])"
      ]
     },
     "execution_count": 31,
     "metadata": {
      "tags": []
     },
     "output_type": "execute_result"
    }
   ],
   "source": [
    "# 予測\n",
    "pred = clf.predict(X_test)\n",
    "pred"
   ]
  },
  {
   "cell_type": "code",
   "execution_count": 0,
   "metadata": {
    "colab": {},
    "colab_type": "code",
    "id": "jcil24JTBgJv"
   },
   "outputs": [],
   "source": [
    "from sklearn.metrics import accuracy_score, precision_score, recall_score, f1_score"
   ]
  },
  {
   "cell_type": "code",
   "execution_count": 33,
   "metadata": {
    "colab": {
     "base_uri": "https://localhost:8080/",
     "height": 85
    },
    "colab_type": "code",
    "executionInfo": {
     "elapsed": 5357,
     "status": "ok",
     "timestamp": 1589291621157,
     "user": {
      "displayName": "tomoaki yamazaki",
      "photoUrl": "",
      "userId": "02506561162524756023"
     },
     "user_tz": -540
    },
    "id": "KosfopdfBzRD",
    "outputId": "bdc1d14f-8389-491c-9c44-cf3020e74301"
   },
   "outputs": [
    {
     "data": {
      "text/plain": [
       "(0.9830508474576272,\n",
       " array([1.        , 1.        , 0.92307692]),\n",
       " array([1.        , 0.95652174, 1.        ]),\n",
       " array([1.        , 0.97777778, 0.96      ]))"
      ]
     },
     "execution_count": 33,
     "metadata": {
      "tags": []
     },
     "output_type": "execute_result"
    }
   ],
   "source": [
    "# 評価\n",
    "# accuracy　正答率, precision　適合率, recall　再現率, f値\n",
    "accuracy_score(pred, y_test), precision_score(pred, y_test, average=None), \\\n",
    "recall_score(pred, y_test, average=None), f1_score(pred, y_test, average=None)"
   ]
  },
  {
   "cell_type": "markdown",
   "metadata": {
    "colab_type": "text",
    "id": "VlxHG1uxC3Ok"
   },
   "source": [
    "怖いくらい当たっていますね・・・検証について考えるのはまた今度にします．"
   ]
  },
  {
   "cell_type": "markdown",
   "metadata": {
    "colab_type": "text",
    "id": "BEkfWqsZAlTY"
   },
   "source": [
    "# 決定木"
   ]
  },
  {
   "cell_type": "code",
   "execution_count": 0,
   "metadata": {
    "colab": {},
    "colab_type": "code",
    "id": "QWdBmJrSAnfu"
   },
   "outputs": [],
   "source": [
    "from sklearn import tree"
   ]
  },
  {
   "cell_type": "code",
   "execution_count": 35,
   "metadata": {
    "colab": {
     "base_uri": "https://localhost:8080/",
     "height": 119
    },
    "colab_type": "code",
    "executionInfo": {
     "elapsed": 5336,
     "status": "ok",
     "timestamp": 1589291621158,
     "user": {
      "displayName": "tomoaki yamazaki",
      "photoUrl": "",
      "userId": "02506561162524756023"
     },
     "user_tz": -540
    },
    "id": "-RHDAMtlDO4B",
    "outputId": "c43d7672-9c04-4376-a5ef-a474ca18ba9e"
   },
   "outputs": [
    {
     "data": {
      "text/plain": [
       "DecisionTreeClassifier(ccp_alpha=0.0, class_weight=None, criterion='gini',\n",
       "                       max_depth=None, max_features=None, max_leaf_nodes=None,\n",
       "                       min_impurity_decrease=0.0, min_impurity_split=None,\n",
       "                       min_samples_leaf=1, min_samples_split=2,\n",
       "                       min_weight_fraction_leaf=0.0, presort='deprecated',\n",
       "                       random_state=0, splitter='best')"
      ]
     },
     "execution_count": 35,
     "metadata": {
      "tags": []
     },
     "output_type": "execute_result"
    }
   ],
   "source": [
    "#訓練\n",
    "clf = tree.DecisionTreeClassifier(random_state=0)\n",
    "clf.fit(X_train, y_train)"
   ]
  },
  {
   "cell_type": "code",
   "execution_count": 0,
   "metadata": {
    "colab": {},
    "colab_type": "code",
    "id": "vLCafBa0DUPl"
   },
   "outputs": [],
   "source": [
    "#予測\n",
    "pred = clf.predict(X_test)"
   ]
  },
  {
   "cell_type": "code",
   "execution_count": 37,
   "metadata": {
    "colab": {
     "base_uri": "https://localhost:8080/",
     "height": 85
    },
    "colab_type": "code",
    "executionInfo": {
     "elapsed": 5315,
     "status": "ok",
     "timestamp": 1589291621159,
     "user": {
      "displayName": "tomoaki yamazaki",
      "photoUrl": "",
      "userId": "02506561162524756023"
     },
     "user_tz": -540
    },
    "id": "7eQbKFtFDmAf",
    "outputId": "a06707e2-2caf-49d9-d97b-afc0d05f34a0"
   },
   "outputs": [
    {
     "data": {
      "text/plain": [
       "(0.9322033898305084,\n",
       " array([0.95833333, 0.86363636, 1.        ]),\n",
       " array([0.92      , 0.95      , 0.92857143]),\n",
       " array([0.93877551, 0.9047619 , 0.96296296]))"
      ]
     },
     "execution_count": 37,
     "metadata": {
      "tags": []
     },
     "output_type": "execute_result"
    }
   ],
   "source": [
    "# 評価\n",
    "# accuracy　正答率, precision　適合率, recall　再現率, f値\n",
    "accuracy_score(pred, y_test), precision_score(pred, y_test, average=None), \\\n",
    "recall_score(pred, y_test, average=None), f1_score(pred, y_test, average=None)"
   ]
  },
  {
   "cell_type": "code",
   "execution_count": 38,
   "metadata": {
    "colab": {
     "base_uri": "https://localhost:8080/",
     "height": 707
    },
    "colab_type": "code",
    "executionInfo": {
     "elapsed": 5716,
     "status": "ok",
     "timestamp": 1589291621573,
     "user": {
      "displayName": "tomoaki yamazaki",
      "photoUrl": "",
      "userId": "02506561162524756023"
     },
     "user_tz": -540
    },
    "id": "6BwF_OoBDnRV",
    "outputId": "7419522d-cb57-42dc-f61c-66b902252c43"
   },
   "outputs": [
    {
     "data": {
      "text/plain": [
       "[Text(334.79999999999995, 440.31600000000003, 'flavanoids <= 0.134\\ngini = 0.657\\nsamples = 119\\nvalue = [35, 49, 35]\\nclass = 1'),\n",
       " Text(223.2, 342.468, 'gini = 0.0\\nsamples = 29\\nvalue = [0, 0, 29]\\nclass = 2'),\n",
       " Text(446.4, 342.468, 'proline <= 0.344\\ngini = 0.548\\nsamples = 90\\nvalue = [35, 49, 6]\\nclass = 1'),\n",
       " Text(223.2, 244.62, 'od280/od315_of_diluted_wines <= 0.086\\ngini = 0.23\\nsamples = 54\\nvalue = [1, 47, 6]\\nclass = 1'),\n",
       " Text(111.6, 146.772, 'gini = 0.0\\nsamples = 5\\nvalue = [0, 0, 5]\\nclass = 2'),\n",
       " Text(334.79999999999995, 146.772, 'hue <= 0.126\\ngini = 0.079\\nsamples = 49\\nvalue = [1, 47, 1]\\nclass = 1'),\n",
       " Text(223.2, 48.924000000000035, '\\n  (...)  \\n'),\n",
       " Text(446.4, 48.924000000000035, '\\n  (...)  \\n'),\n",
       " Text(669.5999999999999, 244.62, 'flavanoids <= 0.385\\ngini = 0.105\\nsamples = 36\\nvalue = [34, 2, 0]\\nclass = 0'),\n",
       " Text(558.0, 146.772, 'gini = 0.0\\nsamples = 2\\nvalue = [0, 2, 0]\\nclass = 1'),\n",
       " Text(781.1999999999999, 146.772, 'gini = 0.0\\nsamples = 34\\nvalue = [34, 0, 0]\\nclass = 0')]"
      ]
     },
     "execution_count": 38,
     "metadata": {
      "tags": []
     },
     "output_type": "execute_result"
    },
    {
     "data": {
      "image/png": "[encoded data removed]",
      "text/plain": [
       "<Figure size 1152x648 with 1 Axes>"
      ]
     },
     "metadata": {
      "needs_background": "light",
      "tags": []
     },
     "output_type": "display_data"
    }
   ],
   "source": [
    "# 可視化\n",
    "plt.figure(figsize=(16, 9))\n",
    "tree.plot_tree(clf, feature_names=data[\"feature_names\"], class_names=[\"0\", \"1\", \"2\"],\n",
    "               filled=True, max_depth=3) "
   ]
  },
  {
   "cell_type": "markdown",
   "metadata": {
    "colab_type": "text",
    "id": "AOuZEqCPGSzL"
   },
   "source": [
    " # 最後に\n",
    " 最初は，alcohol や色合いから決まってくれると助かると思いましたが\n",
    " 途中で相関を計算した時に，flavanoids, od280/od315_of_diluted_wines, proline あたりが良さそうだとなっていました．\n",
    "\n",
    " 決定木の分類ではまさしくその通りの結果になってます．\n",
    "\n",
    " flavanoids について調べてみると，味・色・口当たりに影響を与えているらしいです（wiki ですが）\n",
    "実際，色とも正の相関がありました．['flavanoids', 'hue', 0.5434785664899897],\n",
    "また，「赤ワインでは、最大90%ものフェノール化合物がフラボノイドに分類される。」ということで\n",
    "ワインの分類に関わっているというのも確かに思えます．\n",
    "もう少し，良い仮説/仮定をおけたかもしれないなというのが反省です．\n",
    "https://ja.wikipedia.org/wiki/%E3%83%AF%E3%82%A4%E3%83%B3%E3%81%AE%E3%83%95%E3%82%A7%E3%83%8E%E3%83%BC%E3%83%AB"
   ]
  }
 ],
 "metadata": {
  "colab": {
   "authorship_tag": "ABX9TyMiZplws78O0ugWtyqQ5p80",
   "collapsed_sections": [],
   "name": "predict_flow.ipynb",
   "provenance": [],
   "toc_visible": true
  },
  "kernelspec": {
   "display_name": "Python 3",
   "language": "python",
   "name": "python3"
  },
  "language_info": {
   "codemirror_mode": {
    "name": "ipython",
    "version": 3
   },
   "file_extension": ".py",
   "mimetype": "text/x-python",
   "name": "python",
   "nbconvert_exporter": "python",
   "pygments_lexer": "ipython3",
   "version": "3.7.6"
  }
 },
 "nbformat": 4,
 "nbformat_minor": 1
}
